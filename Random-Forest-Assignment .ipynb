{
 "cells": [
  {
   "cell_type": "code",
   "execution_count": 26,
   "id": "0a7408e1",
   "metadata": {},
   "outputs": [],
   "source": [
    "import pandas as pd\n",
    "import numpy as np\n",
    "import scipy.optimize as opt\n",
    "from sklearn import preprocessing\n",
    "from sklearn.model_selection import train_test_split\n",
    "%matplotlib inline \n",
    "import matplotlib.pyplot as plt\n",
    "from sklearn import tree\n",
    "import graphviz \n",
    "from sklearn.ensemble import RandomForestClassifier\n",
    "from sklearn.model_selection import train_test_split\n"
   ]
  },
  {
   "cell_type": "code",
   "execution_count": 27,
   "id": "0ee8d4d5",
   "metadata": {},
   "outputs": [
    {
     "data": {
      "text/html": [
       "<div>\n",
       "<style scoped>\n",
       "    .dataframe tbody tr th:only-of-type {\n",
       "        vertical-align: middle;\n",
       "    }\n",
       "\n",
       "    .dataframe tbody tr th {\n",
       "        vertical-align: top;\n",
       "    }\n",
       "\n",
       "    .dataframe thead th {\n",
       "        text-align: right;\n",
       "    }\n",
       "</style>\n",
       "<table border=\"1\" class=\"dataframe\">\n",
       "  <thead>\n",
       "    <tr style=\"text-align: right;\">\n",
       "      <th></th>\n",
       "      <th>Age</th>\n",
       "      <th>BMI</th>\n",
       "      <th>Glucose</th>\n",
       "      <th>Insulin</th>\n",
       "      <th>HOMA</th>\n",
       "      <th>Leptin</th>\n",
       "      <th>Adiponectin</th>\n",
       "      <th>Resistin</th>\n",
       "      <th>MCP.1</th>\n",
       "      <th>Classification</th>\n",
       "    </tr>\n",
       "  </thead>\n",
       "  <tbody>\n",
       "    <tr>\n",
       "      <th>0</th>\n",
       "      <td>48</td>\n",
       "      <td>23.500000</td>\n",
       "      <td>70</td>\n",
       "      <td>2.707</td>\n",
       "      <td>0.467409</td>\n",
       "      <td>8.8071</td>\n",
       "      <td>9.702400</td>\n",
       "      <td>7.99585</td>\n",
       "      <td>417.114</td>\n",
       "      <td>1</td>\n",
       "    </tr>\n",
       "    <tr>\n",
       "      <th>1</th>\n",
       "      <td>83</td>\n",
       "      <td>20.690495</td>\n",
       "      <td>92</td>\n",
       "      <td>3.115</td>\n",
       "      <td>0.706897</td>\n",
       "      <td>8.8438</td>\n",
       "      <td>5.429285</td>\n",
       "      <td>4.06405</td>\n",
       "      <td>468.786</td>\n",
       "      <td>1</td>\n",
       "    </tr>\n",
       "    <tr>\n",
       "      <th>2</th>\n",
       "      <td>82</td>\n",
       "      <td>23.124670</td>\n",
       "      <td>91</td>\n",
       "      <td>4.498</td>\n",
       "      <td>1.009651</td>\n",
       "      <td>17.9393</td>\n",
       "      <td>22.432040</td>\n",
       "      <td>9.27715</td>\n",
       "      <td>554.697</td>\n",
       "      <td>1</td>\n",
       "    </tr>\n",
       "    <tr>\n",
       "      <th>3</th>\n",
       "      <td>68</td>\n",
       "      <td>21.367521</td>\n",
       "      <td>77</td>\n",
       "      <td>3.226</td>\n",
       "      <td>0.612725</td>\n",
       "      <td>9.8827</td>\n",
       "      <td>7.169560</td>\n",
       "      <td>12.76600</td>\n",
       "      <td>928.220</td>\n",
       "      <td>1</td>\n",
       "    </tr>\n",
       "    <tr>\n",
       "      <th>4</th>\n",
       "      <td>86</td>\n",
       "      <td>21.111111</td>\n",
       "      <td>92</td>\n",
       "      <td>3.549</td>\n",
       "      <td>0.805386</td>\n",
       "      <td>6.6994</td>\n",
       "      <td>4.819240</td>\n",
       "      <td>10.57635</td>\n",
       "      <td>773.920</td>\n",
       "      <td>1</td>\n",
       "    </tr>\n",
       "  </tbody>\n",
       "</table>\n",
       "</div>"
      ],
      "text/plain": [
       "   Age        BMI  Glucose  Insulin      HOMA   Leptin  Adiponectin  Resistin  \\\n",
       "0   48  23.500000       70    2.707  0.467409   8.8071     9.702400   7.99585   \n",
       "1   83  20.690495       92    3.115  0.706897   8.8438     5.429285   4.06405   \n",
       "2   82  23.124670       91    4.498  1.009651  17.9393    22.432040   9.27715   \n",
       "3   68  21.367521       77    3.226  0.612725   9.8827     7.169560  12.76600   \n",
       "4   86  21.111111       92    3.549  0.805386   6.6994     4.819240  10.57635   \n",
       "\n",
       "     MCP.1  Classification  \n",
       "0  417.114               1  \n",
       "1  468.786               1  \n",
       "2  554.697               1  \n",
       "3  928.220               1  \n",
       "4  773.920               1  "
      ]
     },
     "execution_count": 27,
     "metadata": {},
     "output_type": "execute_result"
    }
   ],
   "source": [
    "ionosphere = pd.read_csv('dataR2.csv')\n",
    "ionosphere.head()"
   ]
  },
  {
   "cell_type": "code",
   "execution_count": 28,
   "id": "869e20fb",
   "metadata": {},
   "outputs": [
    {
     "data": {
      "text/plain": [
       "Index(['Age', 'BMI', 'Glucose', 'Insulin', 'HOMA', 'Leptin', 'Adiponectin',\n",
       "       'Resistin', 'MCP.1', 'Classification'],\n",
       "      dtype='object')"
      ]
     },
     "execution_count": 28,
     "metadata": {},
     "output_type": "execute_result"
    }
   ],
   "source": [
    "ionosphere.columns"
   ]
  },
  {
   "cell_type": "code",
   "execution_count": 29,
   "id": "80e55180",
   "metadata": {},
   "outputs": [
    {
     "data": {
      "text/plain": [
       "Age               0\n",
       "BMI               0\n",
       "Glucose           0\n",
       "Insulin           0\n",
       "HOMA              0\n",
       "Leptin            0\n",
       "Adiponectin       0\n",
       "Resistin          0\n",
       "MCP.1             0\n",
       "Classification    0\n",
       "dtype: int64"
      ]
     },
     "execution_count": 29,
     "metadata": {},
     "output_type": "execute_result"
    }
   ],
   "source": [
    "ionosphere.isna().sum()"
   ]
  },
  {
   "cell_type": "code",
   "execution_count": 30,
   "id": "836ea5d6",
   "metadata": {},
   "outputs": [
    {
     "name": "stdout",
     "output_type": "stream",
     "text": [
      "[48 83 82 68 86 49 89 76 73 75 34 29 25 24 38 44 47 61 64 32 36 34 29 35\n",
      " 54 45 50 66 35 36 66 53 28 43 51 67 66 69 60 77 76 76 75 69 71 66 75 78\n",
      " 69 85 76 77 45 45 49 34 42 68 51 62 38 69 49 51 59 45 54 64 46 44 45 44\n",
      " 51 72 46 43 55 43 86 41 59 81 48 71 42 65 48 85 48 58 40 82 52 49 60 49\n",
      " 44 40 71 69 74 66 65 72 57 73 45 46 68 75 54 45 62 65 72 86]\n"
     ]
    }
   ],
   "source": [
    "X = ionosphere.iloc[:,1:10].values\n",
    "y = ionosphere.iloc[:,0].values\n",
    "print(y)"
   ]
  },
  {
   "cell_type": "code",
   "execution_count": 31,
   "id": "a798e1c3",
   "metadata": {},
   "outputs": [],
   "source": [
    "from sklearn.model_selection import train_test_split  \n",
    "X_train, X_test, y_train, y_test = train_test_split(X, y, test_size=0.25)"
   ]
  },
  {
   "cell_type": "code",
   "execution_count": 32,
   "id": "62fd7515",
   "metadata": {},
   "outputs": [],
   "source": [
    "from sklearn.ensemble import RandomForestClassifier\n",
    "randf=RandomForestClassifier(n_estimators=900)\n",
    "randf.fit(X_train,y_train)\n",
    "y_pred=randf.predict(X_test)"
   ]
  },
  {
   "cell_type": "code",
   "execution_count": 33,
   "id": "9815dccb",
   "metadata": {},
   "outputs": [
    {
     "name": "stdout",
     "output_type": "stream",
     "text": [
      "1.0\n",
      "[[0 0 0 ... 0 0 0]\n",
      " [0 0 0 ... 0 0 0]\n",
      " [0 0 0 ... 0 0 0]\n",
      " ...\n",
      " [0 0 0 ... 0 0 0]\n",
      " [0 0 0 ... 0 0 0]\n",
      " [0 0 0 ... 0 0 0]]\n",
      "              precision    recall  f1-score   support\n",
      "\n",
      "          29       0.00      0.00      0.00       1.0\n",
      "          34       0.00      0.00      0.00       1.0\n",
      "          35       0.00      0.00      0.00       2.0\n",
      "          36       0.00      0.00      0.00       1.0\n",
      "          38       0.00      0.00      0.00       0.0\n",
      "          40       0.00      0.00      0.00       0.0\n",
      "          43       0.00      0.00      0.00       1.0\n",
      "          44       0.00      0.00      0.00       1.0\n",
      "          45       0.00      0.00      0.00       3.0\n",
      "          46       0.00      0.00      0.00       0.0\n",
      "          48       0.00      0.00      0.00       2.0\n",
      "          49       0.00      0.00      0.00       2.0\n",
      "          50       0.00      0.00      0.00       1.0\n",
      "          51       0.00      0.00      0.00       1.0\n",
      "          55       0.00      0.00      0.00       0.0\n",
      "          57       0.00      0.00      0.00       1.0\n",
      "          58       0.00      0.00      0.00       1.0\n",
      "          60       0.00      0.00      0.00       0.0\n",
      "          61       0.00      0.00      0.00       1.0\n",
      "          62       0.00      0.00      0.00       0.0\n",
      "          65       0.00      0.00      0.00       0.0\n",
      "          66       0.00      0.00      0.00       0.0\n",
      "          67       0.00      0.00      0.00       1.0\n",
      "          69       0.00      0.00      0.00       1.0\n",
      "          71       0.00      0.00      0.00       0.0\n",
      "          73       0.00      0.00      0.00       1.0\n",
      "          74       0.00      0.00      0.00       0.0\n",
      "          75       0.00      0.00      0.00       1.0\n",
      "          76       0.00      0.00      0.00       2.0\n",
      "          77       0.00      0.00      0.00       0.0\n",
      "          82       0.00      0.00      0.00       1.0\n",
      "          85       0.00      0.00      0.00       1.0\n",
      "          86       0.00      0.00      0.00       2.0\n",
      "\n",
      "    accuracy                           0.00      29.0\n",
      "   macro avg       0.00      0.00      0.00      29.0\n",
      "weighted avg       0.00      0.00      0.00      29.0\n",
      "\n",
      "Accuracy: 0.0\n"
     ]
    },
    {
     "name": "stderr",
     "output_type": "stream",
     "text": [
      "C:\\Users\\DELL\\anaconda3\\lib\\site-packages\\sklearn\\metrics\\_classification.py:1245: UndefinedMetricWarning: Precision and F-score are ill-defined and being set to 0.0 in labels with no predicted samples. Use `zero_division` parameter to control this behavior.\n",
      "  _warn_prf(average, modifier, msg_start, len(result))\n",
      "C:\\Users\\DELL\\anaconda3\\lib\\site-packages\\sklearn\\metrics\\_classification.py:1245: UndefinedMetricWarning: Recall and F-score are ill-defined and being set to 0.0 in labels with no true samples. Use `zero_division` parameter to control this behavior.\n",
      "  _warn_prf(average, modifier, msg_start, len(result))\n",
      "C:\\Users\\DELL\\anaconda3\\lib\\site-packages\\sklearn\\metrics\\_classification.py:1245: UndefinedMetricWarning: Precision and F-score are ill-defined and being set to 0.0 in labels with no predicted samples. Use `zero_division` parameter to control this behavior.\n",
      "  _warn_prf(average, modifier, msg_start, len(result))\n",
      "C:\\Users\\DELL\\anaconda3\\lib\\site-packages\\sklearn\\metrics\\_classification.py:1245: UndefinedMetricWarning: Recall and F-score are ill-defined and being set to 0.0 in labels with no true samples. Use `zero_division` parameter to control this behavior.\n",
      "  _warn_prf(average, modifier, msg_start, len(result))\n",
      "C:\\Users\\DELL\\anaconda3\\lib\\site-packages\\sklearn\\metrics\\_classification.py:1245: UndefinedMetricWarning: Precision and F-score are ill-defined and being set to 0.0 in labels with no predicted samples. Use `zero_division` parameter to control this behavior.\n",
      "  _warn_prf(average, modifier, msg_start, len(result))\n",
      "C:\\Users\\DELL\\anaconda3\\lib\\site-packages\\sklearn\\metrics\\_classification.py:1245: UndefinedMetricWarning: Recall and F-score are ill-defined and being set to 0.0 in labels with no true samples. Use `zero_division` parameter to control this behavior.\n",
      "  _warn_prf(average, modifier, msg_start, len(result))\n"
     ]
    }
   ],
   "source": [
    "from sklearn import metrics\n",
    "from sklearn.metrics import classification_report, confusion_matrix \n",
    "print(np.mean(y_pred != y_test))\n",
    "print(confusion_matrix(y_test, y_pred))  \n",
    "print(classification_report(y_test, y_pred)) \n",
    "print(\"Accuracy:\", metrics.accuracy_score(y_test, y_pred))"
   ]
  },
  {
   "cell_type": "code",
   "execution_count": 34,
   "id": "ba2cf898",
   "metadata": {},
   "outputs": [],
   "source": [
    "from sklearn.metrics import confusion_matrix, plot_confusion_matrix"
   ]
  },
  {
   "cell_type": "code",
   "execution_count": 35,
   "id": "ab39bfa0",
   "metadata": {},
   "outputs": [
    {
     "data": {
      "text/plain": [
       "array([0.12539502, 0.11705895, 0.10741251, 0.10867065, 0.12364935,\n",
       "       0.11866718, 0.13049   , 0.13468003, 0.0339763 ])"
      ]
     },
     "execution_count": 35,
     "metadata": {},
     "output_type": "execute_result"
    }
   ],
   "source": [
    "randf.feature_importances_"
   ]
  },
  {
   "cell_type": "code",
   "execution_count": 36,
   "id": "d0ed8d08",
   "metadata": {},
   "outputs": [],
   "source": [
    "features = ionosphere.columns.values.tolist()[1:10]\n",
    "feature_pro = pd.Series(randf.feature_importances_,index=features).sort_values(ascending=False)"
   ]
  },
  {
   "cell_type": "code",
   "execution_count": 37,
   "id": "a8b3c671",
   "metadata": {},
   "outputs": [
    {
     "data": {
      "text/plain": [
       "MCP.1             0.134680\n",
       "Resistin          0.130490\n",
       "BMI               0.125395\n",
       "Leptin            0.123649\n",
       "Adiponectin       0.118667\n",
       "Glucose           0.117059\n",
       "HOMA              0.108671\n",
       "Insulin           0.107413\n",
       "Classification    0.033976\n",
       "dtype: float64"
      ]
     },
     "execution_count": 37,
     "metadata": {},
     "output_type": "execute_result"
    }
   ],
   "source": [
    "feature_pro"
   ]
  },
  {
   "cell_type": "code",
   "execution_count": 38,
   "id": "a3a1fd5e",
   "metadata": {},
   "outputs": [
    {
     "name": "stderr",
     "output_type": "stream",
     "text": [
      "No handles with labels found to put in legend.\n"
     ]
    },
    {
     "data": {
      "image/png": "[encoded data removed]",
      "text/plain": [
       "<Figure size 432x288 with 1 Axes>"
      ]
     },
     "metadata": {
      "needs_background": "light"
     },
     "output_type": "display_data"
    }
   ],
   "source": [
    "import seaborn as sns\n",
    "%matplotlib inline\n",
    "# Creating a bar plot\n",
    "sns.barplot(x=feature_pro, y=feature_pro.index)\n",
    "# Add labels to your graph\n",
    "plt.xlabel('Feature Importance Score')\n",
    "plt.ylabel('Features')\n",
    "plt.title(\"Visualizing Important Features\")\n",
    "plt.legend()\n",
    "plt.show()"
   ]
  },
  {
   "cell_type": "code",
   "execution_count": 39,
   "id": "ccc7e0b6",
   "metadata": {},
   "outputs": [
    {
     "data": {
      "text/plain": [
       "count    116.000000\n",
       "mean      26.615080\n",
       "std       19.183294\n",
       "min        4.311000\n",
       "25%       12.313675\n",
       "50%       20.271000\n",
       "75%       37.378300\n",
       "max       90.280000\n",
       "Name: Leptin, dtype: float64"
      ]
     },
     "execution_count": 39,
     "metadata": {},
     "output_type": "execute_result"
    }
   ],
   "source": [
    "ionosphere['Leptin'].describe()"
   ]
  },
  {
   "cell_type": "code",
   "execution_count": 40,
   "id": "5211fde4",
   "metadata": {},
   "outputs": [
    {
     "data": {
      "image/png": "[encoded data removed]",
      "text/plain": [
       "<Figure size 432x288 with 1 Axes>"
      ]
     },
     "metadata": {
      "needs_background": "light"
     },
     "output_type": "display_data"
    }
   ],
   "source": [
    "values, base = np.histogram(ionosphere['Leptin'], bins=20)\n",
    "Accumalate = np.cumsum(values/ionosphere.shape[0])\n",
    "plt.plot(base[:-1], Accumalate, c='blue')\n",
    "plt.xlabel('Leptin Feature')\n",
    "plt.ylabel('Frequency')\n",
    "plt.show()"
   ]
  },
  {
   "cell_type": "code",
   "execution_count": 41,
   "id": "597f5255",
   "metadata": {},
   "outputs": [],
   "source": [
    "indeksDaarlig = ionosphere.loc[ionosphere['Leptin'] <= 21].index\n",
    "indeksGod = ionosphere.loc[ionosphere['Leptin'] > 21].index\n",
    "ionosphere.iloc[indeksDaarlig, ionosphere.columns.get_loc('Leptin')] = 0\n",
    "ionosphere.iloc[indeksGod, ionosphere.columns.get_loc('Leptin')] = 1"
   ]
  },
  {
   "cell_type": "code",
   "execution_count": 42,
   "id": "ce8e4b5c",
   "metadata": {},
   "outputs": [
    {
     "data": {
      "text/plain": [
       "0.0    59\n",
       "1.0    57\n",
       "Name: Leptin, dtype: int64"
      ]
     },
     "execution_count": 42,
     "metadata": {},
     "output_type": "execute_result"
    }
   ],
   "source": [
    "ionosphere['Leptin'].value_counts()"
   ]
  },
  {
   "cell_type": "code",
   "execution_count": 43,
   "id": "c9b862c9",
   "metadata": {},
   "outputs": [],
   "source": [
    "x = ionosphere.drop('Leptin',axis=1)\n",
    "y = ionosphere['Leptin']"
   ]
  },
  {
   "cell_type": "code",
   "execution_count": 44,
   "id": "56c0b6b2",
   "metadata": {},
   "outputs": [],
   "source": [
    "xTrain, xTest, yTrain, yTest = train_test_split(x, y, test_size = 0.40, random_state = 40)"
   ]
  },
  {
   "cell_type": "code",
   "execution_count": 45,
   "id": "191c5855",
   "metadata": {},
   "outputs": [
    {
     "data": {
      "text/plain": [
       "DecisionTreeClassifier(max_depth=3)"
      ]
     },
     "execution_count": 45,
     "metadata": {},
     "output_type": "execute_result"
    }
   ],
   "source": [
    "clfTre = tree.DecisionTreeClassifier(max_depth=3)\n",
    "clfTre.fit(xTrain, yTrain)"
   ]
  },
  {
   "cell_type": "code",
   "execution_count": 46,
   "id": "c757c391",
   "metadata": {},
   "outputs": [
    {
     "data": {
      "image/svg+xml": [
       "<?xml version=\"1.0\" encoding=\"UTF-8\" standalone=\"no\"?>\r\n",
       "<!DOCTYPE svg PUBLIC \"-//W3C//DTD SVG 1.1//EN\"\r\n",
       " \"http://www.w3.org/Graphics/SVG/1.1/DTD/svg11.dtd\">\r\n",
       "<!-- Generated by graphviz version 2.38.0 (20140413.2041)\r\n",
       " -->\r\n",
       "<!-- Title: Tree Pages: 1 -->\r\n",
       "<svg width=\"707pt\" height=\"373pt\"\r\n",
       " viewBox=\"0.00 0.00 707.00 373.00\" xmlns=\"http://www.w3.org/2000/svg\" xmlns:xlink=\"http://www.w3.org/1999/xlink\">\r\n",
       "<g id=\"graph0\" class=\"graph\" transform=\"scale(1 1) rotate(0) translate(4 369)\">\r\n",
       "<title>Tree</title>\r\n",
       "<polygon fill=\"white\" stroke=\"none\" points=\"-4,4 -4,-369 703,-369 703,4 -4,4\"/>\r\n",
       "<!-- 0 -->\r\n",
       "<g id=\"node1\" class=\"node\"><title>0</title>\r\n",
       "<path fill=\"#f9e2d1\" stroke=\"black\" d=\"M475,-365C475,-365 386,-365 386,-365 380,-365 374,-359 374,-353 374,-353 374,-309 374,-309 374,-303 380,-297 386,-297 386,-297 475,-297 475,-297 481,-297 487,-303 487,-309 487,-309 487,-353 487,-353 487,-359 481,-365 475,-365\"/>\r\n",
       "<text text-anchor=\"middle\" x=\"430.5\" y=\"-349.8\" font-family=\"Helvetica,sans-Serif\" font-size=\"14.00\">BMI &lt;= 28.904</text>\r\n",
       "<text text-anchor=\"middle\" x=\"430.5\" y=\"-334.8\" font-family=\"Helvetica,sans-Serif\" font-size=\"14.00\">gini = 0.491</text>\r\n",
       "<text text-anchor=\"middle\" x=\"430.5\" y=\"-319.8\" font-family=\"Helvetica,sans-Serif\" font-size=\"14.00\">samples = 69</text>\r\n",
       "<text text-anchor=\"middle\" x=\"430.5\" y=\"-304.8\" font-family=\"Helvetica,sans-Serif\" font-size=\"14.00\">value = [39, 30]</text>\r\n",
       "</g>\r\n",
       "<!-- 1 -->\r\n",
       "<g id=\"node2\" class=\"node\"><title>1</title>\r\n",
       "<path fill=\"#e9975b\" stroke=\"black\" d=\"M386,-261C386,-261 305,-261 305,-261 299,-261 293,-255 293,-249 293,-249 293,-205 293,-205 293,-199 299,-193 305,-193 305,-193 386,-193 386,-193 392,-193 398,-199 398,-205 398,-205 398,-249 398,-249 398,-255 392,-261 386,-261\"/>\r\n",
       "<text text-anchor=\"middle\" x=\"345.5\" y=\"-245.8\" font-family=\"Helvetica,sans-Serif\" font-size=\"14.00\">Age &lt;= 71.5</text>\r\n",
       "<text text-anchor=\"middle\" x=\"345.5\" y=\"-230.8\" font-family=\"Helvetica,sans-Serif\" font-size=\"14.00\">gini = 0.25</text>\r\n",
       "<text text-anchor=\"middle\" x=\"345.5\" y=\"-215.8\" font-family=\"Helvetica,sans-Serif\" font-size=\"14.00\">samples = 41</text>\r\n",
       "<text text-anchor=\"middle\" x=\"345.5\" y=\"-200.8\" font-family=\"Helvetica,sans-Serif\" font-size=\"14.00\">value = [35, 6]</text>\r\n",
       "</g>\r\n",
       "<!-- 0&#45;&gt;1 -->\r\n",
       "<g id=\"edge1\" class=\"edge\"><title>0&#45;&gt;1</title>\r\n",
       "<path fill=\"none\" stroke=\"black\" d=\"M402.903,-296.884C395.554,-288.065 387.525,-278.43 379.863,-269.235\"/>\r\n",
       "<polygon fill=\"black\" stroke=\"black\" points=\"382.34,-266.741 373.249,-261.299 376.963,-271.222 382.34,-266.741\"/>\r\n",
       "<text text-anchor=\"middle\" x=\"370.986\" y=\"-282.497\" font-family=\"Helvetica,sans-Serif\" font-size=\"14.00\">True</text>\r\n",
       "</g>\r\n",
       "<!-- 8 -->\r\n",
       "<g id=\"node9\" class=\"node\"><title>8</title>\r\n",
       "<path fill=\"#5aade9\" stroke=\"black\" d=\"M564,-261C564,-261 469,-261 469,-261 463,-261 457,-255 457,-249 457,-249 457,-205 457,-205 457,-199 463,-193 469,-193 469,-193 564,-193 564,-193 570,-193 576,-199 576,-205 576,-205 576,-249 576,-249 576,-255 570,-261 564,-261\"/>\r\n",
       "<text text-anchor=\"middle\" x=\"516.5\" y=\"-245.8\" font-family=\"Helvetica,sans-Serif\" font-size=\"14.00\">HOMA &lt;= 1.338</text>\r\n",
       "<text text-anchor=\"middle\" x=\"516.5\" y=\"-230.8\" font-family=\"Helvetica,sans-Serif\" font-size=\"14.00\">gini = 0.245</text>\r\n",
       "<text text-anchor=\"middle\" x=\"516.5\" y=\"-215.8\" font-family=\"Helvetica,sans-Serif\" font-size=\"14.00\">samples = 28</text>\r\n",
       "<text text-anchor=\"middle\" x=\"516.5\" y=\"-200.8\" font-family=\"Helvetica,sans-Serif\" font-size=\"14.00\">value = [4, 24]</text>\r\n",
       "</g>\r\n",
       "<!-- 0&#45;&gt;8 -->\r\n",
       "<g id=\"edge8\" class=\"edge\"><title>0&#45;&gt;8</title>\r\n",
       "<path fill=\"none\" stroke=\"black\" d=\"M458.422,-296.884C465.932,-287.976 474.145,-278.235 481.968,-268.957\"/>\r\n",
       "<polygon fill=\"black\" stroke=\"black\" points=\"484.654,-271.201 488.424,-261.299 479.302,-266.689 484.654,-271.201\"/>\r\n",
       "<text text-anchor=\"middle\" x=\"490.544\" y=\"-282.509\" font-family=\"Helvetica,sans-Serif\" font-size=\"14.00\">False</text>\r\n",
       "</g>\r\n",
       "<!-- 2 -->\r\n",
       "<g id=\"node3\" class=\"node\"><title>2</title>\r\n",
       "<path fill=\"#e6853f\" stroke=\"black\" d=\"M222.5,-157C222.5,-157 120.5,-157 120.5,-157 114.5,-157 108.5,-151 108.5,-145 108.5,-145 108.5,-101 108.5,-101 108.5,-95 114.5,-89 120.5,-89 120.5,-89 222.5,-89 222.5,-89 228.5,-89 234.5,-95 234.5,-101 234.5,-101 234.5,-145 234.5,-145 234.5,-151 228.5,-157 222.5,-157\"/>\r\n",
       "<text text-anchor=\"middle\" x=\"171.5\" y=\"-141.8\" font-family=\"Helvetica,sans-Serif\" font-size=\"14.00\">Insulin &lt;= 21.866</text>\r\n",
       "<text text-anchor=\"middle\" x=\"171.5\" y=\"-126.8\" font-family=\"Helvetica,sans-Serif\" font-size=\"14.00\">gini = 0.061</text>\r\n",
       "<text text-anchor=\"middle\" x=\"171.5\" y=\"-111.8\" font-family=\"Helvetica,sans-Serif\" font-size=\"14.00\">samples = 32</text>\r\n",
       "<text text-anchor=\"middle\" x=\"171.5\" y=\"-96.8\" font-family=\"Helvetica,sans-Serif\" font-size=\"14.00\">value = [31, 1]</text>\r\n",
       "</g>\r\n",
       "<!-- 1&#45;&gt;2 -->\r\n",
       "<g id=\"edge2\" class=\"edge\"><title>1&#45;&gt;2</title>\r\n",
       "<path fill=\"none\" stroke=\"black\" d=\"M292.822,-195.12C275.12,-184.743 255.161,-173.043 236.62,-162.174\"/>\r\n",
       "<polygon fill=\"black\" stroke=\"black\" points=\"238.329,-159.118 227.932,-157.081 234.789,-165.157 238.329,-159.118\"/>\r\n",
       "</g>\r\n",
       "<!-- 5 -->\r\n",
       "<g id=\"node6\" class=\"node\"><title>5</title>\r\n",
       "<path fill=\"#d7ebfa\" stroke=\"black\" d=\"M392.5,-157C392.5,-157 298.5,-157 298.5,-157 292.5,-157 286.5,-151 286.5,-145 286.5,-145 286.5,-101 286.5,-101 286.5,-95 292.5,-89 298.5,-89 298.5,-89 392.5,-89 392.5,-89 398.5,-89 404.5,-95 404.5,-101 404.5,-101 404.5,-145 404.5,-145 404.5,-151 398.5,-157 392.5,-157\"/>\r\n",
       "<text text-anchor=\"middle\" x=\"345.5\" y=\"-141.8\" font-family=\"Helvetica,sans-Serif\" font-size=\"14.00\">Insulin &lt;= 7.275</text>\r\n",
       "<text text-anchor=\"middle\" x=\"345.5\" y=\"-126.8\" font-family=\"Helvetica,sans-Serif\" font-size=\"14.00\">gini = 0.494</text>\r\n",
       "<text text-anchor=\"middle\" x=\"345.5\" y=\"-111.8\" font-family=\"Helvetica,sans-Serif\" font-size=\"14.00\">samples = 9</text>\r\n",
       "<text text-anchor=\"middle\" x=\"345.5\" y=\"-96.8\" font-family=\"Helvetica,sans-Serif\" font-size=\"14.00\">value = [4, 5]</text>\r\n",
       "</g>\r\n",
       "<!-- 1&#45;&gt;5 -->\r\n",
       "<g id=\"edge5\" class=\"edge\"><title>1&#45;&gt;5</title>\r\n",
       "<path fill=\"none\" stroke=\"black\" d=\"M345.5,-192.884C345.5,-184.778 345.5,-175.982 345.5,-167.472\"/>\r\n",
       "<polygon fill=\"black\" stroke=\"black\" points=\"349,-167.299 345.5,-157.299 342,-167.299 349,-167.299\"/>\r\n",
       "</g>\r\n",
       "<!-- 3 -->\r\n",
       "<g id=\"node4\" class=\"node\"><title>3</title>\r\n",
       "<path fill=\"#e58139\" stroke=\"black\" d=\"M93,-53C93,-53 12,-53 12,-53 6,-53 0,-47 0,-41 0,-41 0,-12 0,-12 0,-6 6,-0 12,-0 12,-0 93,-0 93,-0 99,-0 105,-6 105,-12 105,-12 105,-41 105,-41 105,-47 99,-53 93,-53\"/>\r\n",
       "<text text-anchor=\"middle\" x=\"52.5\" y=\"-37.8\" font-family=\"Helvetica,sans-Serif\" font-size=\"14.00\">gini = 0.0</text>\r\n",
       "<text text-anchor=\"middle\" x=\"52.5\" y=\"-22.8\" font-family=\"Helvetica,sans-Serif\" font-size=\"14.00\">samples = 29</text>\r\n",
       "<text text-anchor=\"middle\" x=\"52.5\" y=\"-7.8\" font-family=\"Helvetica,sans-Serif\" font-size=\"14.00\">value = [29, 0]</text>\r\n",
       "</g>\r\n",
       "<!-- 2&#45;&gt;3 -->\r\n",
       "<g id=\"edge3\" class=\"edge\"><title>2&#45;&gt;3</title>\r\n",
       "<path fill=\"none\" stroke=\"black\" d=\"M129.88,-88.9485C117.899,-79.4346 104.852,-69.074 92.9443,-59.6175\"/>\r\n",
       "<polygon fill=\"black\" stroke=\"black\" points=\"94.9169,-56.7147 84.9092,-53.2367 90.5637,-62.1965 94.9169,-56.7147\"/>\r\n",
       "</g>\r\n",
       "<!-- 4 -->\r\n",
       "<g id=\"node5\" class=\"node\"><title>4</title>\r\n",
       "<path fill=\"#f2c09c\" stroke=\"black\" d=\"M208,-53C208,-53 135,-53 135,-53 129,-53 123,-47 123,-41 123,-41 123,-12 123,-12 123,-6 129,-0 135,-0 135,-0 208,-0 208,-0 214,-0 220,-6 220,-12 220,-12 220,-41 220,-41 220,-47 214,-53 208,-53\"/>\r\n",
       "<text text-anchor=\"middle\" x=\"171.5\" y=\"-37.8\" font-family=\"Helvetica,sans-Serif\" font-size=\"14.00\">gini = 0.444</text>\r\n",
       "<text text-anchor=\"middle\" x=\"171.5\" y=\"-22.8\" font-family=\"Helvetica,sans-Serif\" font-size=\"14.00\">samples = 3</text>\r\n",
       "<text text-anchor=\"middle\" x=\"171.5\" y=\"-7.8\" font-family=\"Helvetica,sans-Serif\" font-size=\"14.00\">value = [2, 1]</text>\r\n",
       "</g>\r\n",
       "<!-- 2&#45;&gt;4 -->\r\n",
       "<g id=\"edge4\" class=\"edge\"><title>2&#45;&gt;4</title>\r\n",
       "<path fill=\"none\" stroke=\"black\" d=\"M171.5,-88.9485C171.5,-80.7153 171.5,-71.848 171.5,-63.4814\"/>\r\n",
       "<polygon fill=\"black\" stroke=\"black\" points=\"175,-63.2367 171.5,-53.2367 168,-63.2367 175,-63.2367\"/>\r\n",
       "</g>\r\n",
       "<!-- 6 -->\r\n",
       "<g id=\"node7\" class=\"node\"><title>6</title>\r\n",
       "<path fill=\"#f2c09c\" stroke=\"black\" d=\"M323,-53C323,-53 250,-53 250,-53 244,-53 238,-47 238,-41 238,-41 238,-12 238,-12 238,-6 244,-0 250,-0 250,-0 323,-0 323,-0 329,-0 335,-6 335,-12 335,-12 335,-41 335,-41 335,-47 329,-53 323,-53\"/>\r\n",
       "<text text-anchor=\"middle\" x=\"286.5\" y=\"-37.8\" font-family=\"Helvetica,sans-Serif\" font-size=\"14.00\">gini = 0.444</text>\r\n",
       "<text text-anchor=\"middle\" x=\"286.5\" y=\"-22.8\" font-family=\"Helvetica,sans-Serif\" font-size=\"14.00\">samples = 6</text>\r\n",
       "<text text-anchor=\"middle\" x=\"286.5\" y=\"-7.8\" font-family=\"Helvetica,sans-Serif\" font-size=\"14.00\">value = [4, 2]</text>\r\n",
       "</g>\r\n",
       "<!-- 5&#45;&gt;6 -->\r\n",
       "<g id=\"edge6\" class=\"edge\"><title>5&#45;&gt;6</title>\r\n",
       "<path fill=\"none\" stroke=\"black\" d=\"M324.865,-88.9485C319.382,-80.1664 313.448,-70.6629 307.924,-61.815\"/>\r\n",
       "<polygon fill=\"black\" stroke=\"black\" points=\"310.833,-59.8656 302.568,-53.2367 304.896,-63.5728 310.833,-59.8656\"/>\r\n",
       "</g>\r\n",
       "<!-- 7 -->\r\n",
       "<g id=\"node8\" class=\"node\"><title>7</title>\r\n",
       "<path fill=\"#399de5\" stroke=\"black\" d=\"M438,-53C438,-53 365,-53 365,-53 359,-53 353,-47 353,-41 353,-41 353,-12 353,-12 353,-6 359,-0 365,-0 365,-0 438,-0 438,-0 444,-0 450,-6 450,-12 450,-12 450,-41 450,-41 450,-47 444,-53 438,-53\"/>\r\n",
       "<text text-anchor=\"middle\" x=\"401.5\" y=\"-37.8\" font-family=\"Helvetica,sans-Serif\" font-size=\"14.00\">gini = 0.0</text>\r\n",
       "<text text-anchor=\"middle\" x=\"401.5\" y=\"-22.8\" font-family=\"Helvetica,sans-Serif\" font-size=\"14.00\">samples = 3</text>\r\n",
       "<text text-anchor=\"middle\" x=\"401.5\" y=\"-7.8\" font-family=\"Helvetica,sans-Serif\" font-size=\"14.00\">value = [0, 3]</text>\r\n",
       "</g>\r\n",
       "<!-- 5&#45;&gt;7 -->\r\n",
       "<g id=\"edge7\" class=\"edge\"><title>5&#45;&gt;7</title>\r\n",
       "<path fill=\"none\" stroke=\"black\" d=\"M365.086,-88.9485C370.236,-80.2579 375.805,-70.8608 381.001,-62.0917\"/>\r\n",
       "<polygon fill=\"black\" stroke=\"black\" points=\"384.162,-63.624 386.249,-53.2367 378.14,-60.0553 384.162,-63.624\"/>\r\n",
       "</g>\r\n",
       "<!-- 9 -->\r\n",
       "<g id=\"node10\" class=\"node\"><title>9</title>\r\n",
       "<path fill=\"#ffffff\" stroke=\"black\" d=\"M564,-157C564,-157 469,-157 469,-157 463,-157 457,-151 457,-145 457,-145 457,-101 457,-101 457,-95 463,-89 469,-89 469,-89 564,-89 564,-89 570,-89 576,-95 576,-101 576,-101 576,-145 576,-145 576,-151 570,-157 564,-157\"/>\r\n",
       "<text text-anchor=\"middle\" x=\"516.5\" y=\"-141.8\" font-family=\"Helvetica,sans-Serif\" font-size=\"14.00\">HOMA &lt;= 1.217</text>\r\n",
       "<text text-anchor=\"middle\" x=\"516.5\" y=\"-126.8\" font-family=\"Helvetica,sans-Serif\" font-size=\"14.00\">gini = 0.5</text>\r\n",
       "<text text-anchor=\"middle\" x=\"516.5\" y=\"-111.8\" font-family=\"Helvetica,sans-Serif\" font-size=\"14.00\">samples = 8</text>\r\n",
       "<text text-anchor=\"middle\" x=\"516.5\" y=\"-96.8\" font-family=\"Helvetica,sans-Serif\" font-size=\"14.00\">value = [4, 4]</text>\r\n",
       "</g>\r\n",
       "<!-- 8&#45;&gt;9 -->\r\n",
       "<g id=\"edge9\" class=\"edge\"><title>8&#45;&gt;9</title>\r\n",
       "<path fill=\"none\" stroke=\"black\" d=\"M516.5,-192.884C516.5,-184.778 516.5,-175.982 516.5,-167.472\"/>\r\n",
       "<polygon fill=\"black\" stroke=\"black\" points=\"520,-167.299 516.5,-157.299 513,-167.299 520,-167.299\"/>\r\n",
       "</g>\r\n",
       "<!-- 12 -->\r\n",
       "<g id=\"node13\" class=\"node\"><title>12</title>\r\n",
       "<path fill=\"#399de5\" stroke=\"black\" d=\"M687,-149.5C687,-149.5 606,-149.5 606,-149.5 600,-149.5 594,-143.5 594,-137.5 594,-137.5 594,-108.5 594,-108.5 594,-102.5 600,-96.5 606,-96.5 606,-96.5 687,-96.5 687,-96.5 693,-96.5 699,-102.5 699,-108.5 699,-108.5 699,-137.5 699,-137.5 699,-143.5 693,-149.5 687,-149.5\"/>\r\n",
       "<text text-anchor=\"middle\" x=\"646.5\" y=\"-134.3\" font-family=\"Helvetica,sans-Serif\" font-size=\"14.00\">gini = 0.0</text>\r\n",
       "<text text-anchor=\"middle\" x=\"646.5\" y=\"-119.3\" font-family=\"Helvetica,sans-Serif\" font-size=\"14.00\">samples = 20</text>\r\n",
       "<text text-anchor=\"middle\" x=\"646.5\" y=\"-104.3\" font-family=\"Helvetica,sans-Serif\" font-size=\"14.00\">value = [0, 20]</text>\r\n",
       "</g>\r\n",
       "<!-- 8&#45;&gt;12 -->\r\n",
       "<g id=\"edge12\" class=\"edge\"><title>8&#45;&gt;12</title>\r\n",
       "<path fill=\"none\" stroke=\"black\" d=\"M558.707,-192.884C573.846,-181.006 590.872,-167.646 605.874,-155.876\"/>\r\n",
       "<polygon fill=\"black\" stroke=\"black\" points=\"608.268,-158.446 613.975,-149.52 603.947,-152.939 608.268,-158.446\"/>\r\n",
       "</g>\r\n",
       "<!-- 10 -->\r\n",
       "<g id=\"node11\" class=\"node\"><title>10</title>\r\n",
       "<path fill=\"#6ab6ec\" stroke=\"black\" d=\"M553,-53C553,-53 480,-53 480,-53 474,-53 468,-47 468,-41 468,-41 468,-12 468,-12 468,-6 474,-0 480,-0 480,-0 553,-0 553,-0 559,-0 565,-6 565,-12 565,-12 565,-41 565,-41 565,-47 559,-53 553,-53\"/>\r\n",
       "<text text-anchor=\"middle\" x=\"516.5\" y=\"-37.8\" font-family=\"Helvetica,sans-Serif\" font-size=\"14.00\">gini = 0.32</text>\r\n",
       "<text text-anchor=\"middle\" x=\"516.5\" y=\"-22.8\" font-family=\"Helvetica,sans-Serif\" font-size=\"14.00\">samples = 5</text>\r\n",
       "<text text-anchor=\"middle\" x=\"516.5\" y=\"-7.8\" font-family=\"Helvetica,sans-Serif\" font-size=\"14.00\">value = [1, 4]</text>\r\n",
       "</g>\r\n",
       "<!-- 9&#45;&gt;10 -->\r\n",
       "<g id=\"edge10\" class=\"edge\"><title>9&#45;&gt;10</title>\r\n",
       "<path fill=\"none\" stroke=\"black\" d=\"M516.5,-88.9485C516.5,-80.7153 516.5,-71.848 516.5,-63.4814\"/>\r\n",
       "<polygon fill=\"black\" stroke=\"black\" points=\"520,-63.2367 516.5,-53.2367 513,-63.2367 520,-63.2367\"/>\r\n",
       "</g>\r\n",
       "<!-- 11 -->\r\n",
       "<g id=\"node12\" class=\"node\"><title>11</title>\r\n",
       "<path fill=\"#e58139\" stroke=\"black\" d=\"M668,-53C668,-53 595,-53 595,-53 589,-53 583,-47 583,-41 583,-41 583,-12 583,-12 583,-6 589,-0 595,-0 595,-0 668,-0 668,-0 674,-0 680,-6 680,-12 680,-12 680,-41 680,-41 680,-47 674,-53 668,-53\"/>\r\n",
       "<text text-anchor=\"middle\" x=\"631.5\" y=\"-37.8\" font-family=\"Helvetica,sans-Serif\" font-size=\"14.00\">gini = 0.0</text>\r\n",
       "<text text-anchor=\"middle\" x=\"631.5\" y=\"-22.8\" font-family=\"Helvetica,sans-Serif\" font-size=\"14.00\">samples = 3</text>\r\n",
       "<text text-anchor=\"middle\" x=\"631.5\" y=\"-7.8\" font-family=\"Helvetica,sans-Serif\" font-size=\"14.00\">value = [3, 0]</text>\r\n",
       "</g>\r\n",
       "<!-- 9&#45;&gt;11 -->\r\n",
       "<g id=\"edge11\" class=\"edge\"><title>9&#45;&gt;11</title>\r\n",
       "<path fill=\"none\" stroke=\"black\" d=\"M556.721,-88.9485C568.299,-79.4346 580.907,-69.074 592.415,-59.6175\"/>\r\n",
       "<polygon fill=\"black\" stroke=\"black\" points=\"594.676,-62.2897 600.18,-53.2367 590.232,-56.8814 594.676,-62.2897\"/>\r\n",
       "</g>\r\n",
       "</g>\r\n",
       "</svg>\r\n"
      ],
      "text/plain": [
       "<graphviz.files.Source at 0x184b9a05f10>"
      ]
     },
     "execution_count": 46,
     "metadata": {},
     "output_type": "execute_result"
    }
   ],
   "source": [
    "dot_data = tree.export_graphviz(clfTre, out_file=None, max_depth=3, feature_names=list(x.columns.values), filled=True, rounded=True)\n",
    "valgTre = graphviz.Source(dot_data) \n",
    "valgTre"
   ]
  },
  {
   "cell_type": "code",
   "execution_count": 47,
   "id": "2fd28128",
   "metadata": {},
   "outputs": [
    {
     "name": "stdout",
     "output_type": "stream",
     "text": [
      "The Decision Tree predicts the test data in 76.59574468085107 % of the cases.\n"
     ]
    }
   ],
   "source": [
    "utfall = (clfTre.predict(xTest) == yTest).value_counts()\n",
    "print(\"The Decision Tree predicts the test data in\", (utfall[1]/(utfall[0]+utfall[1]))*100 , \"% of the cases.\")"
   ]
  },
  {
   "cell_type": "code",
   "execution_count": 48,
   "id": "a103f6f1",
   "metadata": {},
   "outputs": [
    {
     "data": {
      "text/plain": [
       "RandomForestClassifier(max_depth=10, random_state=0)"
      ]
     },
     "execution_count": 48,
     "metadata": {},
     "output_type": "execute_result"
    }
   ],
   "source": [
    "rf = RandomForestClassifier(n_estimators=100, max_depth=10, random_state=0)\n",
    "rf.fit(xTrain, yTrain)"
   ]
  },
  {
   "cell_type": "code",
   "execution_count": 49,
   "id": "6965b4f7",
   "metadata": {},
   "outputs": [
    {
     "name": "stdout",
     "output_type": "stream",
     "text": [
      "The Decision tree Predicts the test data in 68.08510638297872 % of the cases.\n"
     ]
    }
   ],
   "source": [
    "utfall = (rf.predict(xTest) == yTest).value_counts()\n",
    "print(\"The Decision tree Predicts the test data in\", (utfall[1]/(utfall[0]+utfall[1]))*100 , \"% of the cases.\")"
   ]
  },
  {
   "cell_type": "code",
   "execution_count": null,
   "id": "e15823fd",
   "metadata": {},
   "outputs": [],
   "source": []
  }
 ],
 "metadata": {
  "kernelspec": {
   "display_name": "Python 3",
   "language": "python",
   "name": "python3"
  },
  "language_info": {
   "codemirror_mode": {
    "name": "ipython",
    "version": 3
   },
   "file_extension": ".py",
   "mimetype": "text/x-python",
   "name": "python",
   "nbconvert_exporter": "python",
   "pygments_lexer": "ipython3",
   "version": "3.8.8"
  }
 },
 "nbformat": 4,
 "nbformat_minor": 5
}
